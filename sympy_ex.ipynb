{
 "cells": [
  {
   "cell_type": "code",
   "execution_count": 1,
   "metadata": {},
   "outputs": [
    {
     "name": "stdout",
     "output_type": "stream",
     "text": [
      "IPython console for SymPy 1.0 (Python 3.6.1-64-bit) (ground types: python)\n",
      "\n",
      "These commands were executed:\n",
      ">>> from __future__ import division\n",
      ">>> from sympy import *\n",
      ">>> x, y, z, t = symbols('x y z t')\n",
      ">>> k, m, n = symbols('k m n', integer=True)\n",
      ">>> f, g, h = symbols('f g h', cls=Function)\n",
      ">>> init_printing()\n",
      "\n",
      "Documentation can be found at http://docs.sympy.org/1.0/\n"
     ]
    }
   ],
   "source": [
    "from sympy import *\n",
    "from sympy.tensor.array import derive_by_array\n",
    "init_session(use_latex=True)\n",
    "init_printing(use_latex=True)"
   ]
  },
  {
   "cell_type": "code",
   "execution_count": 2,
   "metadata": {
    "collapsed": true
   },
   "outputs": [],
   "source": [
    "x,y = symbols('x y')"
   ]
  },
  {
   "cell_type": "code",
   "execution_count": 3,
   "metadata": {
    "collapsed": true
   },
   "outputs": [],
   "source": [
    "f = (1-x)**2 + 100*(y-x**2)**2"
   ]
  },
  {
   "cell_type": "code",
   "execution_count": 4,
   "metadata": {
    "collapsed": true
   },
   "outputs": [],
   "source": [
    "def grad(f,*args):\n",
    "    from sympy.tensor.array import derive_by_array\n",
    "    gradient = Matrix(derive_by_array(f,args))\n",
    "    return gradient\n",
    "\n",
    "def hessian(f,*args):\n",
    "    from sympy.tensor.array import derive_by_array\n",
    "    n = len(args)\n",
    "    gradient = Matrix(derive_by_array(f,args))\n",
    "    hessian = Matrix(derive_by_array(gradient, args)).reshape(n,n)\n",
    "    return hessian "
   ]
  },
  {
   "cell_type": "code",
   "execution_count": 5,
   "metadata": {},
   "outputs": [
    {
     "data": {
      "text/latex": [
       "$$\\left[\\begin{matrix}- 400 x \\left(- x^{2} + y\\right) + 2 x - 2\\\\- 200 x^{2} + 200 y\\end{matrix}\\right]$$"
      ],
      "text/plain": [
       "⎡        ⎛   2    ⎞          ⎤\n",
       "⎢- 400⋅x⋅⎝- x  + y⎠ + 2⋅x - 2⎥\n",
       "⎢                            ⎥\n",
       "⎢             2              ⎥\n",
       "⎣      - 200⋅x  + 200⋅y      ⎦"
      ]
     },
     "execution_count": 5,
     "metadata": {},
     "output_type": "execute_result"
    }
   ],
   "source": [
    "grad(f,x,y)"
   ]
  },
  {
   "cell_type": "code",
   "execution_count": 11,
   "metadata": {},
   "outputs": [
    {
     "data": {
      "text/latex": [
       "$$\\left[\\begin{matrix}1200 x^{2} - 400 y + 2 & - 400 x\\\\- 400 x & 200\\end{matrix}\\right]$$"
      ],
      "text/plain": [
       "⎡      2                    ⎤\n",
       "⎢1200⋅x  - 400⋅y + 2  -400⋅x⎥\n",
       "⎢                           ⎥\n",
       "⎣      -400⋅x          200  ⎦"
      ]
     },
     "execution_count": 11,
     "metadata": {},
     "output_type": "execute_result"
    }
   ],
   "source": [
    "hessian(f,x,y)"
   ]
  },
  {
   "cell_type": "code",
   "execution_count": 24,
   "metadata": {},
   "outputs": [
    {
     "data": {
      "image/png": "[encoded data removed]",
      "text/latex": [
       "$$\\left [ \\left ( 1, \\quad 1\\right )\\right ]$$"
      ],
      "text/plain": [
       "[(1, 1)]"
      ]
     },
     "execution_count": 24,
     "metadata": {},
     "output_type": "execute_result"
    }
   ],
   "source": [
    "solve(list(grad(f,x,y)),[x,y])"
   ]
  },
  {
   "cell_type": "code",
   "execution_count": 28,
   "metadata": {},
   "outputs": [
    {
     "ename": "ValueError",
     "evalue": "Improper variable list in hessian function",
     "output_type": "error",
     "traceback": [
      "\u001b[1;31m---------------------------------------------------------------------------\u001b[0m",
      "\u001b[1;31mValueError\u001b[0m                                Traceback (most recent call last)",
      "\u001b[1;32m<ipython-input-28-358edc6a3e65>\u001b[0m in \u001b[0;36m<module>\u001b[1;34m()\u001b[0m\n\u001b[1;32m----> 1\u001b[1;33m \u001b[0mg\u001b[0m \u001b[1;33m=\u001b[0m \u001b[0mlambdify\u001b[0m\u001b[1;33m(\u001b[0m\u001b[1;33m(\u001b[0m\u001b[0mx\u001b[0m\u001b[1;33m,\u001b[0m\u001b[0my\u001b[0m\u001b[1;33m)\u001b[0m\u001b[1;33m,\u001b[0m\u001b[0mhessian\u001b[0m\u001b[1;33m(\u001b[0m\u001b[0mf\u001b[0m\u001b[1;33m,\u001b[0m\u001b[0mx\u001b[0m\u001b[1;33m,\u001b[0m\u001b[0my\u001b[0m\u001b[1;33m)\u001b[0m\u001b[1;33m)\u001b[0m\u001b[1;33m\u001b[0m\u001b[0m\n\u001b[0m",
      "\u001b[1;32mC:\\ProgramData\\Anaconda3\\lib\\site-packages\\sympy\\matrices\\dense.py\u001b[0m in \u001b[0;36mhessian\u001b[1;34m(f, varlist, constraints)\u001b[0m\n\u001b[0;32m   1481\u001b[0m             \u001b[1;32mraise\u001b[0m \u001b[0mShapeError\u001b[0m\u001b[1;33m(\u001b[0m\u001b[1;34m\"`len(varlist)` must not be zero.\"\u001b[0m\u001b[1;33m)\u001b[0m\u001b[1;33m\u001b[0m\u001b[0m\n\u001b[0;32m   1482\u001b[0m     \u001b[1;32melse\u001b[0m\u001b[1;33m:\u001b[0m\u001b[1;33m\u001b[0m\u001b[0m\n\u001b[1;32m-> 1483\u001b[1;33m         \u001b[1;32mraise\u001b[0m \u001b[0mValueError\u001b[0m\u001b[1;33m(\u001b[0m\u001b[1;34m\"Improper variable list in hessian function\"\u001b[0m\u001b[1;33m)\u001b[0m\u001b[1;33m\u001b[0m\u001b[0m\n\u001b[0m\u001b[0;32m   1484\u001b[0m     \u001b[1;32mif\u001b[0m \u001b[1;32mnot\u001b[0m \u001b[0mgetattr\u001b[0m\u001b[1;33m(\u001b[0m\u001b[0mf\u001b[0m\u001b[1;33m,\u001b[0m \u001b[1;34m'diff'\u001b[0m\u001b[1;33m)\u001b[0m\u001b[1;33m:\u001b[0m\u001b[1;33m\u001b[0m\u001b[0m\n\u001b[0;32m   1485\u001b[0m         \u001b[1;31m# check differentiability\u001b[0m\u001b[1;33m\u001b[0m\u001b[1;33m\u001b[0m\u001b[0m\n",
      "\u001b[1;31mValueError\u001b[0m: Improper variable list in hessian function"
     ]
    }
   ],
   "source": [
    "g = lambdify((x,y),hessian(f,x,y))"
   ]
  },
  {
   "cell_type": "code",
   "execution_count": 26,
   "metadata": {},
   "outputs": [
    {
     "data": {
      "text/latex": [
       "$$\\left[\\begin{matrix}2 x + 2\\end{matrix}\\right]$$"
      ],
      "text/plain": [
       "[2⋅x + 2]"
      ]
     },
     "execution_count": 26,
     "metadata": {},
     "output_type": "execute_result"
    }
   ],
   "source": [
    "grad(f1,x)"
   ]
  },
  {
   "cell_type": "code",
   "execution_count": 17,
   "metadata": {
    "collapsed": true
   },
   "outputs": [],
   "source": [
    "g = exp(x*y) + sin(x+2*z) - z**3 "
   ]
  },
  {
   "cell_type": "code",
   "execution_count": 19,
   "metadata": {},
   "outputs": [
    {
     "data": {
      "image/png": "[encoded data removed]",
      "text/latex": [
       "$$- z^{3} + e^{x y} + \\sin{\\left (x + 2 z \\right )}$$"
      ],
      "text/plain": [
       "   3    x⋅y               \n",
       "- z  + ℯ    + sin(x + 2⋅z)"
      ]
     },
     "execution_count": 19,
     "metadata": {},
     "output_type": "execute_result"
    }
   ],
   "source": [
    "g"
   ]
  },
  {
   "cell_type": "code",
   "execution_count": 22,
   "metadata": {},
   "outputs": [
    {
     "data": {
      "text/latex": [
       "$$\\left[\\begin{matrix}y e^{x y} + \\cos{\\left (x + 2 z \\right )}\\\\x e^{x y}\\\\- 3 z^{2} + 2 \\cos{\\left (x + 2 z \\right )}\\end{matrix}\\right]$$"
      ],
      "text/plain": [
       "⎡    x⋅y                ⎤\n",
       "⎢ y⋅ℯ    + cos(x + 2⋅z) ⎥\n",
       "⎢                       ⎥\n",
       "⎢           x⋅y         ⎥\n",
       "⎢        x⋅ℯ            ⎥\n",
       "⎢                       ⎥\n",
       "⎢     2                 ⎥\n",
       "⎣- 3⋅z  + 2⋅cos(x + 2⋅z)⎦"
      ]
     },
     "execution_count": 22,
     "metadata": {},
     "output_type": "execute_result"
    }
   ],
   "source": [
    "grad(g,x,y,z)"
   ]
  },
  {
   "cell_type": "code",
   "execution_count": 23,
   "metadata": {},
   "outputs": [
    {
     "data": {
      "text/latex": [
       "$$\\left[\\begin{matrix}y^{2} e^{x y} - \\sin{\\left (x + 2 z \\right )} & x y e^{x y} + e^{x y} & - 2 \\sin{\\left (x + 2 z \\right )}\\\\x y e^{x y} + e^{x y} & x^{2} e^{x y} & 0\\\\- 2 \\sin{\\left (x + 2 z \\right )} & 0 & - 6 z - 4 \\sin{\\left (x + 2 z \\right )}\\end{matrix}\\right]$$"
      ],
      "text/plain": [
       "⎡ 2  x⋅y                      x⋅y    x⋅y                       ⎤\n",
       "⎢y ⋅ℯ    - sin(x + 2⋅z)  x⋅y⋅ℯ    + ℯ        -2⋅sin(x + 2⋅z)   ⎥\n",
       "⎢                                                              ⎥\n",
       "⎢        x⋅y    x⋅y           2  x⋅y                           ⎥\n",
       "⎢   x⋅y⋅ℯ    + ℯ             x ⋅ℯ                   0          ⎥\n",
       "⎢                                                              ⎥\n",
       "⎣   -2⋅sin(x + 2⋅z)             0         -6⋅z - 4⋅sin(x + 2⋅z)⎦"
      ]
     },
     "execution_count": 23,
     "metadata": {},
     "output_type": "execute_result"
    }
   ],
   "source": [
    "hessian(g,x,y,z)"
   ]
  },
  {
   "cell_type": "code",
   "execution_count": 6,
   "metadata": {},
   "outputs": [
    {
     "data": {
      "image/png": "[encoded data removed]",
      "text/latex": [
       "$$\\frac{1}{2}$$"
      ],
      "text/plain": [
       "1/2"
      ]
     },
     "execution_count": 6,
     "metadata": {},
     "output_type": "execute_result"
    }
   ],
   "source": [
    "Rational(1,2)"
   ]
  },
  {
   "cell_type": "code",
   "execution_count": null,
   "metadata": {
    "collapsed": true
   },
   "outputs": [],
   "source": []
  }
 ],
 "metadata": {
  "kernelspec": {
   "display_name": "Python 3",
   "language": "python",
   "name": "python3"
  },
  "language_info": {
   "codemirror_mode": {
    "name": "ipython",
    "version": 3
   },
   "file_extension": ".py",
   "mimetype": "text/x-python",
   "name": "python",
   "nbconvert_exporter": "python",
   "pygments_lexer": "ipython3",
   "version": "3.6.1"
  }
 },
 "nbformat": 4,
 "nbformat_minor": 2
}
