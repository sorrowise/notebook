{
 "cells": [
  {
   "cell_type": "code",
   "execution_count": 1,
   "metadata": {
    "collapsed": true
   },
   "outputs": [],
   "source": [
    "import numpy as np\n",
    "import matplotlib\n",
    "import matplotlib.pyplot as plt\n",
    "import warnings\n",
    "warnings.filterwarnings(\"ignore\")\n",
    "%matplotlib inline\n",
    "import pandas as pd\n",
    "import seaborn as sns\n",
    "import statsmodels.api as sm\n",
    "sns.set(style=\"white\",color_codes=True)\n",
    "plt.rcParams['figure.figsize'] = (15,9.27)\n",
    "# Set the font set of the latex code to computer modern\n",
    "matplotlib.rcParams['mathtext.fontset'] = \"cm\""
   ]
  },
  {
   "cell_type": "code",
   "execution_count": 2,
   "metadata": {
    "collapsed": true
   },
   "outputs": [],
   "source": [
    "mul = pd.read_excel('data/mul.xlsx')\n",
    "mul.set_index(['date','id'],inplace=True)\n",
    "np.random.seed(123)\n",
    "mul['z'] = 2*mul.x + 3*mul.y + np.random.randn(48)"
   ]
  },
  {
   "cell_type": "code",
   "execution_count": 32,
   "metadata": {
    "collapsed": true
   },
   "outputs": [],
   "source": [
    "def df_reg(df,Y):\n",
    "    X = sm.add_constant(df.drop(Y,axis=1))\n",
    "    res = sm.OLS(df[Y],X).fit().params\n",
    "    return res"
   ]
  },
  {
   "cell_type": "code",
   "execution_count": 4,
   "metadata": {
    "collapsed": true
   },
   "outputs": [],
   "source": [
    "def first_reg(df,Y):\n",
    "    assets = df.index.levels[1]\n",
    "    betas = pd.DataFrame()\n",
    "    for id in assets:\n",
    "        beta = df_reg(df,Y)\n",
    "        betas[id] = beta\n",
    "    res = betas.transpose()\n",
    "    res.columns = ['const'] + ['beta_'+ x for x in df.drop(Y,axis=1).columns]\n",
    "    res.index = assets\n",
    "    return res"
   ]
  },
  {
   "cell_type": "code",
   "execution_count": 42,
   "metadata": {
    "collapsed": true
   },
   "outputs": [],
   "source": [
    "def second_reg(df,betas,Y):\n",
    "    betas = betas.drop('const',axis=1)\n",
    "    times = df.index.levels[0]\n",
    "    premiums = pd.DataFrame()\n",
    "    for time in times:\n",
    "        yy = pd.DataFrame(df.xs((time))[Y])\n",
    "        new_df = pd.merge(yy,betas,on='id',how='inner')\n",
    "        print(new_df)\n",
    "        print(sm.add_constant(new_df.drop(Y,axis=1)))\n",
    "        premium = df_reg(new_df,Y)\n",
    "        print(premium)\n",
    "        premiums[time] = premium\n",
    "    res = premiums.transpose()\n",
    "    res.columns = ['const'] + ['premium_'+x for x in df.drop(Y,axis=1).columns]\n",
    "    return res"
   ]
  },
  {
   "cell_type": "code",
   "execution_count": 6,
   "metadata": {},
   "outputs": [
    {
     "data": {
      "text/plain": [
       "['y', 'x']"
      ]
     },
     "execution_count": 6,
     "metadata": {},
     "output_type": "execute_result"
    }
   ],
   "source": [
    "[x for x in mul.drop('z',axis=1).columns]"
   ]
  },
  {
   "cell_type": "code",
   "execution_count": 7,
   "metadata": {
    "collapsed": true
   },
   "outputs": [],
   "source": [
    "betas = first_reg(mul,'z')"
   ]
  },
  {
   "cell_type": "code",
   "execution_count": 38,
   "metadata": {
    "collapsed": true
   },
   "outputs": [],
   "source": [
    "aaa = mul.xs('2012-1-1')"
   ]
  },
  {
   "cell_type": "code",
   "execution_count": 40,
   "metadata": {},
   "outputs": [
    {
     "data": {
      "text/plain": [
       "const   -6.064287\n",
       "y        3.726712\n",
       "x        2.510530\n",
       "dtype: float64"
      ]
     },
     "execution_count": 40,
     "metadata": {},
     "output_type": "execute_result"
    }
   ],
   "source": [
    "df_reg(aaa,'z')"
   ]
  },
  {
   "cell_type": "code",
   "execution_count": 43,
   "metadata": {},
   "outputs": [
    {
     "name": "stdout",
     "output_type": "stream",
     "text": [
      "            z    beta_y    beta_x\n",
      "id                               \n",
      "1   19.354369  3.056747  2.057594\n",
      "2   26.727345  3.056747  2.057594\n",
      "3   22.632978  3.056747  2.057594\n",
      "4   22.713705  3.056747  2.057594\n",
      "      beta_y    beta_x\n",
      "id                    \n",
      "1   3.056747  2.057594\n",
      "2   3.056747  2.057594\n",
      "3   3.056747  2.057594\n",
      "4   3.056747  2.057594\n",
      "beta_y    5.145934\n",
      "beta_x    3.463892\n",
      "dtype: float64\n",
      "            z    beta_y    beta_x\n",
      "id                               \n",
      "1    5.431400  3.056747  2.057594\n",
      "2   23.781437  3.056747  2.057594\n",
      "3    8.743321  3.056747  2.057594\n",
      "4   26.761087  3.056747  2.057594\n",
      "      beta_y    beta_x\n",
      "id                    \n",
      "1   3.056747  2.057594\n",
      "2   3.056747  2.057594\n",
      "3   3.056747  2.057594\n",
      "4   3.056747  2.057594\n",
      "beta_y    3.642530\n",
      "beta_x    2.451903\n",
      "dtype: float64\n",
      "            z    beta_y    beta_x\n",
      "id                               \n",
      "1   39.085936  3.056747  2.057594\n",
      "2   11.573260  3.056747  2.057594\n",
      "3   45.681114  3.056747  2.057594\n",
      "4   22.775291  3.056747  2.057594\n",
      "      beta_y    beta_x\n",
      "id                    \n",
      "1   3.056747  2.057594\n",
      "2   3.056747  2.057594\n",
      "3   3.056747  2.057594\n",
      "4   3.056747  2.057594\n",
      "beta_y    6.704274\n",
      "beta_x    4.512860\n",
      "dtype: float64\n",
      "            z    beta_y    beta_x\n",
      "id                               \n",
      "1   15.391390  3.056747  2.057594\n",
      "2   42.831098  3.056747  2.057594\n",
      "3   25.816018  3.056747  2.057594\n",
      "4   15.955649  3.056747  2.057594\n",
      "      beta_y    beta_x\n",
      "id                    \n",
      "1   3.056747  2.057594\n",
      "2   3.056747  2.057594\n",
      "3   3.056747  2.057594\n",
      "4   3.056747  2.057594\n",
      "beta_y    5.628047\n",
      "beta_x    3.788417\n",
      "dtype: float64\n",
      "            z    beta_y    beta_x\n",
      "id                               \n",
      "1   28.195930  3.056747  2.057594\n",
      "2   22.646786  3.056747  2.057594\n",
      "3    7.574054  3.056747  2.057594\n",
      "4   10.106186  3.056747  2.057594\n",
      "      beta_y    beta_x\n",
      "id                    \n",
      "1   3.056747  2.057594\n",
      "2   3.056747  2.057594\n",
      "3   3.056747  2.057594\n",
      "4   3.056747  2.057594\n",
      "beta_y    3.856730\n",
      "beta_x    2.596087\n",
      "dtype: float64\n",
      "            z    beta_y    beta_x\n",
      "id                               \n",
      "1   25.127369  3.056747  2.057594\n",
      "2   27.500732  3.056747  2.057594\n",
      "3    7.344166  3.056747  2.057594\n",
      "4   40.025829  3.056747  2.057594\n",
      "      beta_y    beta_x\n",
      "id                    \n",
      "1   3.056747  2.057594\n",
      "2   3.056747  2.057594\n",
      "3   3.056747  2.057594\n",
      "4   3.056747  2.057594\n",
      "beta_y    5.628269\n",
      "beta_x    3.788567\n",
      "dtype: float64\n",
      "            z    beta_y    beta_x\n",
      "id                               \n",
      "1   37.956119  3.056747  2.057594\n",
      "2   26.342248  3.056747  2.057594\n",
      "3   31.867105  3.056747  2.057594\n",
      "4    5.551319  3.056747  2.057594\n",
      "      beta_y    beta_x\n",
      "id                    \n",
      "1   3.056747  2.057594\n",
      "2   3.056747  2.057594\n",
      "3   3.056747  2.057594\n",
      "4   3.056747  2.057594\n",
      "beta_y    5.725003\n",
      "beta_x    3.853682\n",
      "dtype: float64\n",
      "            z    beta_y    beta_x\n",
      "id                               \n",
      "1   21.229931  3.056747  2.057594\n",
      "2   19.818245  3.056747  2.057594\n",
      "3   19.714381  3.056747  2.057594\n",
      "4    5.501411  3.056747  2.057594\n",
      "      beta_y    beta_x\n",
      "id                    \n",
      "1   3.056747  2.057594\n",
      "2   3.056747  2.057594\n",
      "3   3.056747  2.057594\n",
      "4   3.056747  2.057594\n",
      "beta_y    3.729585\n",
      "beta_x    2.510502\n",
      "dtype: float64\n",
      "            z    beta_y    beta_x\n",
      "id                               \n",
      "1   19.338467  3.056747  2.057594\n",
      "2   26.050123  3.056747  2.057594\n",
      "3   27.477462  3.056747  2.057594\n",
      "4   31.626364  3.056747  2.057594\n",
      "      beta_y    beta_x\n",
      "id                    \n",
      "1   3.056747  2.057594\n",
      "2   3.056747  2.057594\n",
      "3   3.056747  2.057594\n",
      "4   3.056747  2.057594\n",
      "beta_y    5.881226\n",
      "beta_x    3.958840\n",
      "dtype: float64\n",
      "            z    beta_y    beta_x\n",
      "id                               \n",
      "1   15.882846  3.056747  2.057594\n",
      "2   34.288223  3.056747  2.057594\n",
      "3   29.270464  3.056747  2.057594\n",
      "4   14.803627  3.056747  2.057594\n",
      "      beta_y    beta_x\n",
      "id                    \n",
      "1   3.056747  2.057594\n",
      "2   3.056747  2.057594\n",
      "3   3.056747  2.057594\n",
      "4   3.056747  2.057594\n",
      "beta_y    5.304472\n",
      "beta_x    3.570609\n",
      "dtype: float64\n",
      "            z    beta_y    beta_x\n",
      "id                               \n",
      "1   16.144633  3.056747  2.057594\n",
      "2   26.682331  3.056747  2.057594\n",
      "3   20.699100  3.056747  2.057594\n",
      "4    2.723806  3.056747  2.057594\n",
      "      beta_y    beta_x\n",
      "id                    \n",
      "1   3.056747  2.057594\n",
      "2   3.056747  2.057594\n",
      "3   3.056747  2.057594\n",
      "4   3.056747  2.057594\n",
      "beta_y    3.728792\n",
      "beta_x    2.509968\n",
      "dtype: float64\n",
      "            z    beta_y    beta_x\n",
      "id                               \n",
      "1   10.178589  3.056747  2.057594\n",
      "2   29.658170  3.056747  2.057594\n",
      "3   38.282365  3.056747  2.057594\n",
      "4   30.112912  3.056747  2.057594\n",
      "      beta_y    beta_x\n",
      "id                    \n",
      "1   3.056747  2.057594\n",
      "2   3.056747  2.057594\n",
      "3   3.056747  2.057594\n",
      "4   3.056747  2.057594\n",
      "beta_y    6.091706\n",
      "beta_x    4.100521\n",
      "dtype: float64\n"
     ]
    },
    {
     "ename": "ValueError",
     "evalue": "Length mismatch: Expected axis has 2 elements, new values have 3 elements",
     "output_type": "error",
     "traceback": [
      "\u001b[1;31m---------------------------------------------------------------------------\u001b[0m",
      "\u001b[1;31mValueError\u001b[0m                                Traceback (most recent call last)",
      "\u001b[1;32m<ipython-input-43-ee0a2d134a23>\u001b[0m in \u001b[0;36m<module>\u001b[1;34m()\u001b[0m\n\u001b[1;32m----> 1\u001b[1;33m \u001b[0msecond_reg\u001b[0m\u001b[1;33m(\u001b[0m\u001b[0mmul\u001b[0m\u001b[1;33m,\u001b[0m\u001b[0mbetas\u001b[0m\u001b[1;33m,\u001b[0m\u001b[1;34m'z'\u001b[0m\u001b[1;33m)\u001b[0m\u001b[1;33m\u001b[0m\u001b[0m\n\u001b[0m",
      "\u001b[1;32m<ipython-input-42-8a48a40f2901>\u001b[0m in \u001b[0;36msecond_reg\u001b[1;34m(df, betas, Y)\u001b[0m\n\u001b[0;32m     12\u001b[0m         \u001b[0mpremiums\u001b[0m\u001b[1;33m[\u001b[0m\u001b[0mtime\u001b[0m\u001b[1;33m]\u001b[0m \u001b[1;33m=\u001b[0m \u001b[0mpremium\u001b[0m\u001b[1;33m\u001b[0m\u001b[0m\n\u001b[0;32m     13\u001b[0m     \u001b[0mres\u001b[0m \u001b[1;33m=\u001b[0m \u001b[0mpremiums\u001b[0m\u001b[1;33m.\u001b[0m\u001b[0mtranspose\u001b[0m\u001b[1;33m(\u001b[0m\u001b[1;33m)\u001b[0m\u001b[1;33m\u001b[0m\u001b[0m\n\u001b[1;32m---> 14\u001b[1;33m     \u001b[0mres\u001b[0m\u001b[1;33m.\u001b[0m\u001b[0mcolumns\u001b[0m \u001b[1;33m=\u001b[0m \u001b[1;33m[\u001b[0m\u001b[1;34m'const'\u001b[0m\u001b[1;33m]\u001b[0m \u001b[1;33m+\u001b[0m \u001b[1;33m[\u001b[0m\u001b[1;34m'premium_'\u001b[0m\u001b[1;33m+\u001b[0m\u001b[0mx\u001b[0m \u001b[1;32mfor\u001b[0m \u001b[0mx\u001b[0m \u001b[1;32min\u001b[0m \u001b[0mdf\u001b[0m\u001b[1;33m.\u001b[0m\u001b[0mdrop\u001b[0m\u001b[1;33m(\u001b[0m\u001b[0mY\u001b[0m\u001b[1;33m,\u001b[0m\u001b[0maxis\u001b[0m\u001b[1;33m=\u001b[0m\u001b[1;36m1\u001b[0m\u001b[1;33m)\u001b[0m\u001b[1;33m.\u001b[0m\u001b[0mcolumns\u001b[0m\u001b[1;33m]\u001b[0m\u001b[1;33m\u001b[0m\u001b[0m\n\u001b[0m\u001b[0;32m     15\u001b[0m     \u001b[1;32mreturn\u001b[0m \u001b[0mres\u001b[0m\u001b[1;33m\u001b[0m\u001b[0m\n",
      "\u001b[1;32mC:\\ProgramData\\Anaconda3\\lib\\site-packages\\pandas\\core\\generic.py\u001b[0m in \u001b[0;36m__setattr__\u001b[1;34m(self, name, value)\u001b[0m\n\u001b[0;32m   4387\u001b[0m         \u001b[1;32mtry\u001b[0m\u001b[1;33m:\u001b[0m\u001b[1;33m\u001b[0m\u001b[0m\n\u001b[0;32m   4388\u001b[0m             \u001b[0mobject\u001b[0m\u001b[1;33m.\u001b[0m\u001b[0m__getattribute__\u001b[0m\u001b[1;33m(\u001b[0m\u001b[0mself\u001b[0m\u001b[1;33m,\u001b[0m \u001b[0mname\u001b[0m\u001b[1;33m)\u001b[0m\u001b[1;33m\u001b[0m\u001b[0m\n\u001b[1;32m-> 4389\u001b[1;33m             \u001b[1;32mreturn\u001b[0m \u001b[0mobject\u001b[0m\u001b[1;33m.\u001b[0m\u001b[0m__setattr__\u001b[0m\u001b[1;33m(\u001b[0m\u001b[0mself\u001b[0m\u001b[1;33m,\u001b[0m \u001b[0mname\u001b[0m\u001b[1;33m,\u001b[0m \u001b[0mvalue\u001b[0m\u001b[1;33m)\u001b[0m\u001b[1;33m\u001b[0m\u001b[0m\n\u001b[0m\u001b[0;32m   4390\u001b[0m         \u001b[1;32mexcept\u001b[0m \u001b[0mAttributeError\u001b[0m\u001b[1;33m:\u001b[0m\u001b[1;33m\u001b[0m\u001b[0m\n\u001b[0;32m   4391\u001b[0m             \u001b[1;32mpass\u001b[0m\u001b[1;33m\u001b[0m\u001b[0m\n",
      "\u001b[1;32mpandas\\_libs\\properties.pyx\u001b[0m in \u001b[0;36mpandas._libs.properties.AxisProperty.__set__\u001b[1;34m()\u001b[0m\n",
      "\u001b[1;32mC:\\ProgramData\\Anaconda3\\lib\\site-packages\\pandas\\core\\generic.py\u001b[0m in \u001b[0;36m_set_axis\u001b[1;34m(self, axis, labels)\u001b[0m\n\u001b[0;32m    644\u001b[0m \u001b[1;33m\u001b[0m\u001b[0m\n\u001b[0;32m    645\u001b[0m     \u001b[1;32mdef\u001b[0m \u001b[0m_set_axis\u001b[0m\u001b[1;33m(\u001b[0m\u001b[0mself\u001b[0m\u001b[1;33m,\u001b[0m \u001b[0maxis\u001b[0m\u001b[1;33m,\u001b[0m \u001b[0mlabels\u001b[0m\u001b[1;33m)\u001b[0m\u001b[1;33m:\u001b[0m\u001b[1;33m\u001b[0m\u001b[0m\n\u001b[1;32m--> 646\u001b[1;33m         \u001b[0mself\u001b[0m\u001b[1;33m.\u001b[0m\u001b[0m_data\u001b[0m\u001b[1;33m.\u001b[0m\u001b[0mset_axis\u001b[0m\u001b[1;33m(\u001b[0m\u001b[0maxis\u001b[0m\u001b[1;33m,\u001b[0m \u001b[0mlabels\u001b[0m\u001b[1;33m)\u001b[0m\u001b[1;33m\u001b[0m\u001b[0m\n\u001b[0m\u001b[0;32m    647\u001b[0m         \u001b[0mself\u001b[0m\u001b[1;33m.\u001b[0m\u001b[0m_clear_item_cache\u001b[0m\u001b[1;33m(\u001b[0m\u001b[1;33m)\u001b[0m\u001b[1;33m\u001b[0m\u001b[0m\n\u001b[0;32m    648\u001b[0m \u001b[1;33m\u001b[0m\u001b[0m\n",
      "\u001b[1;32mC:\\ProgramData\\Anaconda3\\lib\\site-packages\\pandas\\core\\internals.py\u001b[0m in \u001b[0;36mset_axis\u001b[1;34m(self, axis, new_labels)\u001b[0m\n\u001b[0;32m   3321\u001b[0m             raise ValueError(\n\u001b[0;32m   3322\u001b[0m                 \u001b[1;34m'Length mismatch: Expected axis has {old} elements, new '\u001b[0m\u001b[1;33m\u001b[0m\u001b[0m\n\u001b[1;32m-> 3323\u001b[1;33m                 'values have {new} elements'.format(old=old_len, new=new_len))\n\u001b[0m\u001b[0;32m   3324\u001b[0m \u001b[1;33m\u001b[0m\u001b[0m\n\u001b[0;32m   3325\u001b[0m         \u001b[0mself\u001b[0m\u001b[1;33m.\u001b[0m\u001b[0maxes\u001b[0m\u001b[1;33m[\u001b[0m\u001b[0maxis\u001b[0m\u001b[1;33m]\u001b[0m \u001b[1;33m=\u001b[0m \u001b[0mnew_labels\u001b[0m\u001b[1;33m\u001b[0m\u001b[0m\n",
      "\u001b[1;31mValueError\u001b[0m: Length mismatch: Expected axis has 2 elements, new values have 3 elements"
     ]
    }
   ],
   "source": [
    "second_reg(mul,betas,'z')"
   ]
  },
  {
   "cell_type": "code",
   "execution_count": null,
   "metadata": {
    "collapsed": true
   },
   "outputs": [],
   "source": []
  }
 ],
 "metadata": {
  "kernelspec": {
   "display_name": "Python 3",
   "language": "python",
   "name": "python3"
  },
  "language_info": {
   "codemirror_mode": {
    "name": "ipython",
    "version": 3
   },
   "file_extension": ".py",
   "mimetype": "text/x-python",
   "name": "python",
   "nbconvert_exporter": "python",
   "pygments_lexer": "ipython3",
   "version": "3.6.3"
  }
 },
 "nbformat": 4,
 "nbformat_minor": 2
}
