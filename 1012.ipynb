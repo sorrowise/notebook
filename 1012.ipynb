{
 "cells": [
  {
   "cell_type": "code",
   "execution_count": 38,
   "metadata": {
    "collapsed": true
   },
   "outputs": [],
   "source": [
    "import numpy as np\n",
    "import matplotlib\n",
    "import matplotlib.pyplot as plt\n",
    "import warnings\n",
    "warnings.filterwarnings(\"ignore\")\n",
    "%matplotlib inline\n",
    "import pandas as pd\n",
    "import seaborn as sns\n",
    "sns.set(style=\"white\",color_codes=True)\n",
    "plt.rcParams['figure.figsize'] = (15,9.27)\n",
    "matplotlib.rcParams['mathtext.fontset'] = \"cm\"\n",
    "from scipy.stats import norm"
   ]
  },
  {
   "cell_type": "code",
   "execution_count": 39,
   "metadata": {
    "collapsed": true
   },
   "outputs": [],
   "source": [
    "iris = sns.load_dataset('iris')"
   ]
  },
  {
   "cell_type": "code",
   "execution_count": 74,
   "metadata": {
    "collapsed": true
   },
   "outputs": [],
   "source": [
    "class GNB(object):\n",
    "    \n",
    "    def __init__(self,df,y):\n",
    "        self.df = df\n",
    "        self.y = y\n",
    "        self.mu_sigma_df = df.groupby(y).agg([np.mean,np.std])\n",
    "        self.pclass = df[y].value_counts()/df[y].count()\n",
    "    \n",
    "    def __main(self,x):\n",
    "        prob_df = pd.DataFrame(index=self.mu_sigma_df.index,\n",
    "                               columns=self.mu_sigma_df.columns.levels[0])\n",
    "        for r in prob_df.index:\n",
    "            num = 0\n",
    "            for c in prob_df.columns:\n",
    "                mu = self.mu_sigma_df.loc[r,c][0]\n",
    "                sigma = self.mu_sigma_df.loc[r,c][1]\n",
    "                prob_df.loc[r,c] = norm.pdf(x[num],mu,sigma)\n",
    "                num += 1\n",
    "        prob_df['pclass'] = self.pclass\n",
    "        prob_df['res'] = np.prod(prob_df,axis=1)\n",
    "        return prob_df['res'].idxmax(),prob_df\n",
    "    \n",
    "    def predict(self,x):\n",
    "        return self.__main(x)[0]\n",
    "    \n",
    "    def predict_prob_df(self,x):\n",
    "        return self.__main(x)[1] "
   ]
  },
  {
   "cell_type": "code",
   "execution_count": 41,
   "metadata": {
    "collapsed": true
   },
   "outputs": [],
   "source": [
    "def cross_accuracy_score(df,y,model_class,k=10):\n",
    "    from sklearn.cross_validation import train_test_split\n",
    "    X = df.drop(y,axis=1)\n",
    "    Y = df[y]\n",
    "    accuracy = []\n",
    "    for i in range(k):\n",
    "        xtrain,xtest,ytrain,ytest = train_test_split(X,Y,test_size=1/k)\n",
    "        df_train = pd.concat([xtrain,ytrain],axis=1)\n",
    "        model = model_class(df_train,y)\n",
    "        prediction = []\n",
    "        for j in range(len(xtest)):\n",
    "            prediction.append(model.predict(xtest.iloc[j,:]))\n",
    "        df_test = pd.concat([xtest,ytest],axis=1)\n",
    "        df_test['prediction'] = prediction\n",
    "        df_test['isright'] = (df_test[y] == df_test.prediction)\n",
    "        accuracy.append(sum(df_test.isright)/len(df_test.isright))\n",
    "    return accuracy"
   ]
  },
  {
   "cell_type": "code",
   "execution_count": 42,
   "metadata": {
    "collapsed": true
   },
   "outputs": [],
   "source": [
    "dating = pd.read_excel('data/dating.xlsx')"
   ]
  },
  {
   "cell_type": "code",
   "execution_count": 43,
   "metadata": {},
   "outputs": [
    {
     "data": {
      "text/html": [
       "<div>\n",
       "<style scoped>\n",
       "    .dataframe tbody tr th:only-of-type {\n",
       "        vertical-align: middle;\n",
       "    }\n",
       "\n",
       "    .dataframe tbody tr th {\n",
       "        vertical-align: top;\n",
       "    }\n",
       "\n",
       "    .dataframe thead th {\n",
       "        text-align: right;\n",
       "    }\n",
       "</style>\n",
       "<table border=\"1\" class=\"dataframe\">\n",
       "  <thead>\n",
       "    <tr style=\"text-align: right;\">\n",
       "      <th></th>\n",
       "      <th>fd</th>\n",
       "      <th>gp</th>\n",
       "      <th>ic</th>\n",
       "      <th>feeling</th>\n",
       "    </tr>\n",
       "  </thead>\n",
       "  <tbody>\n",
       "    <tr>\n",
       "      <th>0</th>\n",
       "      <td>40920</td>\n",
       "      <td>8.326976</td>\n",
       "      <td>0.953952</td>\n",
       "      <td>largeDoses</td>\n",
       "    </tr>\n",
       "    <tr>\n",
       "      <th>1</th>\n",
       "      <td>14488</td>\n",
       "      <td>7.153469</td>\n",
       "      <td>1.673904</td>\n",
       "      <td>smallDoses</td>\n",
       "    </tr>\n",
       "    <tr>\n",
       "      <th>2</th>\n",
       "      <td>26052</td>\n",
       "      <td>1.441871</td>\n",
       "      <td>0.805124</td>\n",
       "      <td>didntLike</td>\n",
       "    </tr>\n",
       "    <tr>\n",
       "      <th>3</th>\n",
       "      <td>75136</td>\n",
       "      <td>13.147394</td>\n",
       "      <td>0.428964</td>\n",
       "      <td>didntLike</td>\n",
       "    </tr>\n",
       "    <tr>\n",
       "      <th>4</th>\n",
       "      <td>38344</td>\n",
       "      <td>1.669788</td>\n",
       "      <td>0.134296</td>\n",
       "      <td>didntLike</td>\n",
       "    </tr>\n",
       "  </tbody>\n",
       "</table>\n",
       "</div>"
      ],
      "text/plain": [
       "      fd         gp        ic     feeling\n",
       "0  40920   8.326976  0.953952  largeDoses\n",
       "1  14488   7.153469  1.673904  smallDoses\n",
       "2  26052   1.441871  0.805124   didntLike\n",
       "3  75136  13.147394  0.428964   didntLike\n",
       "4  38344   1.669788  0.134296   didntLike"
      ]
     },
     "execution_count": 43,
     "metadata": {},
     "output_type": "execute_result"
    }
   ],
   "source": [
    "dating.head()"
   ]
  },
  {
   "cell_type": "code",
   "execution_count": 76,
   "metadata": {
    "collapsed": true
   },
   "outputs": [],
   "source": [
    "n = GNB(dating,'feeling')"
   ]
  },
  {
   "cell_type": "code",
   "execution_count": 78,
   "metadata": {},
   "outputs": [
    {
     "data": {
      "text/html": [
       "<div>\n",
       "<style scoped>\n",
       "    .dataframe tbody tr th:only-of-type {\n",
       "        vertical-align: middle;\n",
       "    }\n",
       "\n",
       "    .dataframe tbody tr th {\n",
       "        vertical-align: top;\n",
       "    }\n",
       "\n",
       "    .dataframe thead th {\n",
       "        text-align: right;\n",
       "    }\n",
       "</style>\n",
       "<table border=\"1\" class=\"dataframe\">\n",
       "  <thead>\n",
       "    <tr style=\"text-align: right;\">\n",
       "      <th></th>\n",
       "      <th>fd</th>\n",
       "      <th>gp</th>\n",
       "      <th>ic</th>\n",
       "      <th>pclass</th>\n",
       "      <th>res</th>\n",
       "    </tr>\n",
       "    <tr>\n",
       "      <th>feeling</th>\n",
       "      <th></th>\n",
       "      <th></th>\n",
       "      <th></th>\n",
       "      <th></th>\n",
       "      <th></th>\n",
       "    </tr>\n",
       "  </thead>\n",
       "  <tbody>\n",
       "    <tr>\n",
       "      <th>didntLike</th>\n",
       "      <td>2.2351e-05</td>\n",
       "      <td>0.0832149</td>\n",
       "      <td>0.213718</td>\n",
       "      <td>0.342</td>\n",
       "      <td>1.359459e-07</td>\n",
       "    </tr>\n",
       "    <tr>\n",
       "      <th>largeDoses</th>\n",
       "      <td>7.74327e-07</td>\n",
       "      <td>0.135276</td>\n",
       "      <td>0.195413</td>\n",
       "      <td>0.327</td>\n",
       "      <td>6.693417e-09</td>\n",
       "    </tr>\n",
       "    <tr>\n",
       "      <th>smallDoses</th>\n",
       "      <td>3.57447e-25</td>\n",
       "      <td>0.0234418</td>\n",
       "      <td>0.243541</td>\n",
       "      <td>0.331</td>\n",
       "      <td>6.754658e-28</td>\n",
       "    </tr>\n",
       "  </tbody>\n",
       "</table>\n",
       "</div>"
      ],
      "text/plain": [
       "                     fd         gp        ic  pclass           res\n",
       "feeling                                                           \n",
       "didntLike    2.2351e-05  0.0832149  0.213718   0.342  1.359459e-07\n",
       "largeDoses  7.74327e-07   0.135276  0.195413   0.327  6.693417e-09\n",
       "smallDoses  3.57447e-25  0.0234418  0.243541   0.331  6.754658e-28"
      ]
     },
     "execution_count": 78,
     "metadata": {},
     "output_type": "execute_result"
    }
   ],
   "source": [
    "n.predict_prob_df([61732,8.325167,0.028479])"
   ]
  },
  {
   "cell_type": "code",
   "execution_count": 46,
   "metadata": {},
   "outputs": [
    {
     "data": {
      "text/plain": [
       "GaussianNB(priors=None)"
      ]
     },
     "execution_count": 46,
     "metadata": {},
     "output_type": "execute_result"
    }
   ],
   "source": [
    "X = dating.drop('feeling',axis=1)\n",
    "Y = dating['feeling']\n",
    "from sklearn.naive_bayes import GaussianNB\n",
    "clf = GaussianNB()\n",
    "clf.fit(X, Y)"
   ]
  },
  {
   "cell_type": "code",
   "execution_count": 47,
   "metadata": {
    "collapsed": true
   },
   "outputs": [],
   "source": [
    "from sklearn.cross_validation import cross_val_score"
   ]
  },
  {
   "cell_type": "code",
   "execution_count": 48,
   "metadata": {
    "collapsed": true
   },
   "outputs": [],
   "source": [
    "words = [['my','dog','has','flea','problems','help','please'],['maybe','not','take','him','to',\n",
    "         'dog','park','stupid'],['my','dalmation','is','so','cute','I','love','him'],['stop',\n",
    "         'posting','stupid','worthless','garbage'],['mr','licks','ate','my','steak',\n",
    "         'how','to','stop','him'],['quit','buying','worthless','dog','food','stupid']]\n",
    "classvec = [0,1,0,1,0,1]"
   ]
  },
  {
   "cell_type": "code",
   "execution_count": 49,
   "metadata": {
    "collapsed": true
   },
   "outputs": [],
   "source": [
    "words_df = pd.DataFrame({'words':words,'class':classvec})"
   ]
  },
  {
   "cell_type": "code",
   "execution_count": 50,
   "metadata": {},
   "outputs": [
    {
     "data": {
      "text/html": [
       "<div>\n",
       "<style scoped>\n",
       "    .dataframe tbody tr th:only-of-type {\n",
       "        vertical-align: middle;\n",
       "    }\n",
       "\n",
       "    .dataframe tbody tr th {\n",
       "        vertical-align: top;\n",
       "    }\n",
       "\n",
       "    .dataframe thead th {\n",
       "        text-align: right;\n",
       "    }\n",
       "</style>\n",
       "<table border=\"1\" class=\"dataframe\">\n",
       "  <thead>\n",
       "    <tr style=\"text-align: right;\">\n",
       "      <th></th>\n",
       "      <th>words</th>\n",
       "      <th>class</th>\n",
       "    </tr>\n",
       "  </thead>\n",
       "  <tbody>\n",
       "    <tr>\n",
       "      <th>0</th>\n",
       "      <td>[my, dog, has, flea, problems, help, please]</td>\n",
       "      <td>0</td>\n",
       "    </tr>\n",
       "    <tr>\n",
       "      <th>1</th>\n",
       "      <td>[maybe, not, take, him, to, dog, park, stupid]</td>\n",
       "      <td>1</td>\n",
       "    </tr>\n",
       "    <tr>\n",
       "      <th>2</th>\n",
       "      <td>[my, dalmation, is, so, cute, I, love, him]</td>\n",
       "      <td>0</td>\n",
       "    </tr>\n",
       "    <tr>\n",
       "      <th>3</th>\n",
       "      <td>[stop, posting, stupid, worthless, garbage]</td>\n",
       "      <td>1</td>\n",
       "    </tr>\n",
       "    <tr>\n",
       "      <th>4</th>\n",
       "      <td>[mr, licks, ate, my, steak, how, to, stop, him]</td>\n",
       "      <td>0</td>\n",
       "    </tr>\n",
       "    <tr>\n",
       "      <th>5</th>\n",
       "      <td>[quit, buying, worthless, dog, food, stupid]</td>\n",
       "      <td>1</td>\n",
       "    </tr>\n",
       "  </tbody>\n",
       "</table>\n",
       "</div>"
      ],
      "text/plain": [
       "                                             words  class\n",
       "0     [my, dog, has, flea, problems, help, please]      0\n",
       "1   [maybe, not, take, him, to, dog, park, stupid]      1\n",
       "2      [my, dalmation, is, so, cute, I, love, him]      0\n",
       "3      [stop, posting, stupid, worthless, garbage]      1\n",
       "4  [mr, licks, ate, my, steak, how, to, stop, him]      0\n",
       "5     [quit, buying, worthless, dog, food, stupid]      1"
      ]
     },
     "execution_count": 50,
     "metadata": {},
     "output_type": "execute_result"
    }
   ],
   "source": [
    "words_df"
   ]
  },
  {
   "cell_type": "code",
   "execution_count": 51,
   "metadata": {
    "collapsed": true
   },
   "outputs": [],
   "source": [
    "from functools import reduce\n",
    "words_set = set(reduce(lambda x,y:x+y,words))"
   ]
  },
  {
   "cell_type": "code",
   "execution_count": 52,
   "metadata": {
    "collapsed": true
   },
   "outputs": [],
   "source": [
    "words_occurancy_df = pd.DataFrame(columns=list(words_set),index=range(6))"
   ]
  },
  {
   "cell_type": "code",
   "execution_count": 53,
   "metadata": {},
   "outputs": [
    {
     "data": {
      "text/html": [
       "<div>\n",
       "<style scoped>\n",
       "    .dataframe tbody tr th:only-of-type {\n",
       "        vertical-align: middle;\n",
       "    }\n",
       "\n",
       "    .dataframe tbody tr th {\n",
       "        vertical-align: top;\n",
       "    }\n",
       "\n",
       "    .dataframe thead th {\n",
       "        text-align: right;\n",
       "    }\n",
       "</style>\n",
       "<table border=\"1\" class=\"dataframe\">\n",
       "  <thead>\n",
       "    <tr style=\"text-align: right;\">\n",
       "      <th></th>\n",
       "      <th>help</th>\n",
       "      <th>steak</th>\n",
       "      <th>buying</th>\n",
       "      <th>stop</th>\n",
       "      <th>posting</th>\n",
       "      <th>dog</th>\n",
       "      <th>ate</th>\n",
       "      <th>so</th>\n",
       "      <th>not</th>\n",
       "      <th>how</th>\n",
       "      <th>...</th>\n",
       "      <th>licks</th>\n",
       "      <th>flea</th>\n",
       "      <th>worthless</th>\n",
       "      <th>food</th>\n",
       "      <th>has</th>\n",
       "      <th>quit</th>\n",
       "      <th>problems</th>\n",
       "      <th>is</th>\n",
       "      <th>love</th>\n",
       "      <th>mr</th>\n",
       "    </tr>\n",
       "  </thead>\n",
       "  <tbody>\n",
       "    <tr>\n",
       "      <th>0</th>\n",
       "      <td>NaN</td>\n",
       "      <td>NaN</td>\n",
       "      <td>NaN</td>\n",
       "      <td>NaN</td>\n",
       "      <td>NaN</td>\n",
       "      <td>NaN</td>\n",
       "      <td>NaN</td>\n",
       "      <td>NaN</td>\n",
       "      <td>NaN</td>\n",
       "      <td>NaN</td>\n",
       "      <td>...</td>\n",
       "      <td>NaN</td>\n",
       "      <td>NaN</td>\n",
       "      <td>NaN</td>\n",
       "      <td>NaN</td>\n",
       "      <td>NaN</td>\n",
       "      <td>NaN</td>\n",
       "      <td>NaN</td>\n",
       "      <td>NaN</td>\n",
       "      <td>NaN</td>\n",
       "      <td>NaN</td>\n",
       "    </tr>\n",
       "    <tr>\n",
       "      <th>1</th>\n",
       "      <td>NaN</td>\n",
       "      <td>NaN</td>\n",
       "      <td>NaN</td>\n",
       "      <td>NaN</td>\n",
       "      <td>NaN</td>\n",
       "      <td>NaN</td>\n",
       "      <td>NaN</td>\n",
       "      <td>NaN</td>\n",
       "      <td>NaN</td>\n",
       "      <td>NaN</td>\n",
       "      <td>...</td>\n",
       "      <td>NaN</td>\n",
       "      <td>NaN</td>\n",
       "      <td>NaN</td>\n",
       "      <td>NaN</td>\n",
       "      <td>NaN</td>\n",
       "      <td>NaN</td>\n",
       "      <td>NaN</td>\n",
       "      <td>NaN</td>\n",
       "      <td>NaN</td>\n",
       "      <td>NaN</td>\n",
       "    </tr>\n",
       "    <tr>\n",
       "      <th>2</th>\n",
       "      <td>NaN</td>\n",
       "      <td>NaN</td>\n",
       "      <td>NaN</td>\n",
       "      <td>NaN</td>\n",
       "      <td>NaN</td>\n",
       "      <td>NaN</td>\n",
       "      <td>NaN</td>\n",
       "      <td>NaN</td>\n",
       "      <td>NaN</td>\n",
       "      <td>NaN</td>\n",
       "      <td>...</td>\n",
       "      <td>NaN</td>\n",
       "      <td>NaN</td>\n",
       "      <td>NaN</td>\n",
       "      <td>NaN</td>\n",
       "      <td>NaN</td>\n",
       "      <td>NaN</td>\n",
       "      <td>NaN</td>\n",
       "      <td>NaN</td>\n",
       "      <td>NaN</td>\n",
       "      <td>NaN</td>\n",
       "    </tr>\n",
       "    <tr>\n",
       "      <th>3</th>\n",
       "      <td>NaN</td>\n",
       "      <td>NaN</td>\n",
       "      <td>NaN</td>\n",
       "      <td>NaN</td>\n",
       "      <td>NaN</td>\n",
       "      <td>NaN</td>\n",
       "      <td>NaN</td>\n",
       "      <td>NaN</td>\n",
       "      <td>NaN</td>\n",
       "      <td>NaN</td>\n",
       "      <td>...</td>\n",
       "      <td>NaN</td>\n",
       "      <td>NaN</td>\n",
       "      <td>NaN</td>\n",
       "      <td>NaN</td>\n",
       "      <td>NaN</td>\n",
       "      <td>NaN</td>\n",
       "      <td>NaN</td>\n",
       "      <td>NaN</td>\n",
       "      <td>NaN</td>\n",
       "      <td>NaN</td>\n",
       "    </tr>\n",
       "    <tr>\n",
       "      <th>4</th>\n",
       "      <td>NaN</td>\n",
       "      <td>NaN</td>\n",
       "      <td>NaN</td>\n",
       "      <td>NaN</td>\n",
       "      <td>NaN</td>\n",
       "      <td>NaN</td>\n",
       "      <td>NaN</td>\n",
       "      <td>NaN</td>\n",
       "      <td>NaN</td>\n",
       "      <td>NaN</td>\n",
       "      <td>...</td>\n",
       "      <td>NaN</td>\n",
       "      <td>NaN</td>\n",
       "      <td>NaN</td>\n",
       "      <td>NaN</td>\n",
       "      <td>NaN</td>\n",
       "      <td>NaN</td>\n",
       "      <td>NaN</td>\n",
       "      <td>NaN</td>\n",
       "      <td>NaN</td>\n",
       "      <td>NaN</td>\n",
       "    </tr>\n",
       "    <tr>\n",
       "      <th>5</th>\n",
       "      <td>NaN</td>\n",
       "      <td>NaN</td>\n",
       "      <td>NaN</td>\n",
       "      <td>NaN</td>\n",
       "      <td>NaN</td>\n",
       "      <td>NaN</td>\n",
       "      <td>NaN</td>\n",
       "      <td>NaN</td>\n",
       "      <td>NaN</td>\n",
       "      <td>NaN</td>\n",
       "      <td>...</td>\n",
       "      <td>NaN</td>\n",
       "      <td>NaN</td>\n",
       "      <td>NaN</td>\n",
       "      <td>NaN</td>\n",
       "      <td>NaN</td>\n",
       "      <td>NaN</td>\n",
       "      <td>NaN</td>\n",
       "      <td>NaN</td>\n",
       "      <td>NaN</td>\n",
       "      <td>NaN</td>\n",
       "    </tr>\n",
       "  </tbody>\n",
       "</table>\n",
       "<p>6 rows × 32 columns</p>\n",
       "</div>"
      ],
      "text/plain": [
       "  help steak buying stop posting  dog  ate   so  not  how ...  licks flea  \\\n",
       "0  NaN   NaN    NaN  NaN     NaN  NaN  NaN  NaN  NaN  NaN ...    NaN  NaN   \n",
       "1  NaN   NaN    NaN  NaN     NaN  NaN  NaN  NaN  NaN  NaN ...    NaN  NaN   \n",
       "2  NaN   NaN    NaN  NaN     NaN  NaN  NaN  NaN  NaN  NaN ...    NaN  NaN   \n",
       "3  NaN   NaN    NaN  NaN     NaN  NaN  NaN  NaN  NaN  NaN ...    NaN  NaN   \n",
       "4  NaN   NaN    NaN  NaN     NaN  NaN  NaN  NaN  NaN  NaN ...    NaN  NaN   \n",
       "5  NaN   NaN    NaN  NaN     NaN  NaN  NaN  NaN  NaN  NaN ...    NaN  NaN   \n",
       "\n",
       "  worthless food  has quit problems   is love   mr  \n",
       "0       NaN  NaN  NaN  NaN      NaN  NaN  NaN  NaN  \n",
       "1       NaN  NaN  NaN  NaN      NaN  NaN  NaN  NaN  \n",
       "2       NaN  NaN  NaN  NaN      NaN  NaN  NaN  NaN  \n",
       "3       NaN  NaN  NaN  NaN      NaN  NaN  NaN  NaN  \n",
       "4       NaN  NaN  NaN  NaN      NaN  NaN  NaN  NaN  \n",
       "5       NaN  NaN  NaN  NaN      NaN  NaN  NaN  NaN  \n",
       "\n",
       "[6 rows x 32 columns]"
      ]
     },
     "execution_count": 53,
     "metadata": {},
     "output_type": "execute_result"
    }
   ],
   "source": [
    "words_occurancy_df"
   ]
  },
  {
   "cell_type": "code",
   "execution_count": 54,
   "metadata": {
    "collapsed": true
   },
   "outputs": [],
   "source": [
    "for r in words_occurancy_df.index:\n",
    "    for c in words_occurancy_df.columns:\n",
    "        words_occurancy_df.loc[r,c] = (c in words_df.loc[r,'words'])\n",
    "words_occurancy_df['class'] = classvec"
   ]
  },
  {
   "cell_type": "code",
   "execution_count": 55,
   "metadata": {},
   "outputs": [
    {
     "data": {
      "text/html": [
       "<div>\n",
       "<style scoped>\n",
       "    .dataframe tbody tr th:only-of-type {\n",
       "        vertical-align: middle;\n",
       "    }\n",
       "\n",
       "    .dataframe tbody tr th {\n",
       "        vertical-align: top;\n",
       "    }\n",
       "\n",
       "    .dataframe thead th {\n",
       "        text-align: right;\n",
       "    }\n",
       "</style>\n",
       "<table border=\"1\" class=\"dataframe\">\n",
       "  <thead>\n",
       "    <tr style=\"text-align: right;\">\n",
       "      <th></th>\n",
       "      <th>help</th>\n",
       "      <th>steak</th>\n",
       "      <th>buying</th>\n",
       "      <th>stop</th>\n",
       "      <th>posting</th>\n",
       "      <th>dog</th>\n",
       "      <th>ate</th>\n",
       "      <th>so</th>\n",
       "      <th>not</th>\n",
       "      <th>how</th>\n",
       "      <th>...</th>\n",
       "      <th>flea</th>\n",
       "      <th>worthless</th>\n",
       "      <th>food</th>\n",
       "      <th>has</th>\n",
       "      <th>quit</th>\n",
       "      <th>problems</th>\n",
       "      <th>is</th>\n",
       "      <th>love</th>\n",
       "      <th>mr</th>\n",
       "      <th>class</th>\n",
       "    </tr>\n",
       "  </thead>\n",
       "  <tbody>\n",
       "    <tr>\n",
       "      <th>0</th>\n",
       "      <td>True</td>\n",
       "      <td>False</td>\n",
       "      <td>False</td>\n",
       "      <td>False</td>\n",
       "      <td>False</td>\n",
       "      <td>True</td>\n",
       "      <td>False</td>\n",
       "      <td>False</td>\n",
       "      <td>False</td>\n",
       "      <td>False</td>\n",
       "      <td>...</td>\n",
       "      <td>True</td>\n",
       "      <td>False</td>\n",
       "      <td>False</td>\n",
       "      <td>True</td>\n",
       "      <td>False</td>\n",
       "      <td>True</td>\n",
       "      <td>False</td>\n",
       "      <td>False</td>\n",
       "      <td>False</td>\n",
       "      <td>0</td>\n",
       "    </tr>\n",
       "    <tr>\n",
       "      <th>1</th>\n",
       "      <td>False</td>\n",
       "      <td>False</td>\n",
       "      <td>False</td>\n",
       "      <td>False</td>\n",
       "      <td>False</td>\n",
       "      <td>True</td>\n",
       "      <td>False</td>\n",
       "      <td>False</td>\n",
       "      <td>True</td>\n",
       "      <td>False</td>\n",
       "      <td>...</td>\n",
       "      <td>False</td>\n",
       "      <td>False</td>\n",
       "      <td>False</td>\n",
       "      <td>False</td>\n",
       "      <td>False</td>\n",
       "      <td>False</td>\n",
       "      <td>False</td>\n",
       "      <td>False</td>\n",
       "      <td>False</td>\n",
       "      <td>1</td>\n",
       "    </tr>\n",
       "    <tr>\n",
       "      <th>2</th>\n",
       "      <td>False</td>\n",
       "      <td>False</td>\n",
       "      <td>False</td>\n",
       "      <td>False</td>\n",
       "      <td>False</td>\n",
       "      <td>False</td>\n",
       "      <td>False</td>\n",
       "      <td>True</td>\n",
       "      <td>False</td>\n",
       "      <td>False</td>\n",
       "      <td>...</td>\n",
       "      <td>False</td>\n",
       "      <td>False</td>\n",
       "      <td>False</td>\n",
       "      <td>False</td>\n",
       "      <td>False</td>\n",
       "      <td>False</td>\n",
       "      <td>True</td>\n",
       "      <td>True</td>\n",
       "      <td>False</td>\n",
       "      <td>0</td>\n",
       "    </tr>\n",
       "    <tr>\n",
       "      <th>3</th>\n",
       "      <td>False</td>\n",
       "      <td>False</td>\n",
       "      <td>False</td>\n",
       "      <td>True</td>\n",
       "      <td>True</td>\n",
       "      <td>False</td>\n",
       "      <td>False</td>\n",
       "      <td>False</td>\n",
       "      <td>False</td>\n",
       "      <td>False</td>\n",
       "      <td>...</td>\n",
       "      <td>False</td>\n",
       "      <td>True</td>\n",
       "      <td>False</td>\n",
       "      <td>False</td>\n",
       "      <td>False</td>\n",
       "      <td>False</td>\n",
       "      <td>False</td>\n",
       "      <td>False</td>\n",
       "      <td>False</td>\n",
       "      <td>1</td>\n",
       "    </tr>\n",
       "    <tr>\n",
       "      <th>4</th>\n",
       "      <td>False</td>\n",
       "      <td>True</td>\n",
       "      <td>False</td>\n",
       "      <td>True</td>\n",
       "      <td>False</td>\n",
       "      <td>False</td>\n",
       "      <td>True</td>\n",
       "      <td>False</td>\n",
       "      <td>False</td>\n",
       "      <td>True</td>\n",
       "      <td>...</td>\n",
       "      <td>False</td>\n",
       "      <td>False</td>\n",
       "      <td>False</td>\n",
       "      <td>False</td>\n",
       "      <td>False</td>\n",
       "      <td>False</td>\n",
       "      <td>False</td>\n",
       "      <td>False</td>\n",
       "      <td>True</td>\n",
       "      <td>0</td>\n",
       "    </tr>\n",
       "    <tr>\n",
       "      <th>5</th>\n",
       "      <td>False</td>\n",
       "      <td>False</td>\n",
       "      <td>True</td>\n",
       "      <td>False</td>\n",
       "      <td>False</td>\n",
       "      <td>True</td>\n",
       "      <td>False</td>\n",
       "      <td>False</td>\n",
       "      <td>False</td>\n",
       "      <td>False</td>\n",
       "      <td>...</td>\n",
       "      <td>False</td>\n",
       "      <td>True</td>\n",
       "      <td>True</td>\n",
       "      <td>False</td>\n",
       "      <td>True</td>\n",
       "      <td>False</td>\n",
       "      <td>False</td>\n",
       "      <td>False</td>\n",
       "      <td>False</td>\n",
       "      <td>1</td>\n",
       "    </tr>\n",
       "  </tbody>\n",
       "</table>\n",
       "<p>6 rows × 33 columns</p>\n",
       "</div>"
      ],
      "text/plain": [
       "    help  steak  buying   stop  posting    dog    ate     so    not    how  \\\n",
       "0   True  False   False  False    False   True  False  False  False  False   \n",
       "1  False  False   False  False    False   True  False  False   True  False   \n",
       "2  False  False   False  False    False  False  False   True  False  False   \n",
       "3  False  False   False   True     True  False  False  False  False  False   \n",
       "4  False   True   False   True    False  False   True  False  False   True   \n",
       "5  False  False    True  False    False   True  False  False  False  False   \n",
       "\n",
       "   ...     flea  worthless   food    has   quit  problems     is   love  \\\n",
       "0  ...     True      False  False   True  False      True  False  False   \n",
       "1  ...    False      False  False  False  False     False  False  False   \n",
       "2  ...    False      False  False  False  False     False   True   True   \n",
       "3  ...    False       True  False  False  False     False  False  False   \n",
       "4  ...    False      False  False  False  False     False  False  False   \n",
       "5  ...    False       True   True  False   True     False  False  False   \n",
       "\n",
       "      mr  class  \n",
       "0  False      0  \n",
       "1  False      1  \n",
       "2  False      0  \n",
       "3  False      1  \n",
       "4   True      0  \n",
       "5  False      1  \n",
       "\n",
       "[6 rows x 33 columns]"
      ]
     },
     "execution_count": 55,
     "metadata": {},
     "output_type": "execute_result"
    }
   ],
   "source": [
    "words_occurancy_df"
   ]
  },
  {
   "cell_type": "code",
   "execution_count": 56,
   "metadata": {
    "collapsed": true
   },
   "outputs": [],
   "source": [
    "c0 = words_occurancy_df[words_occurancy_df['class'] == 0]\n",
    "c1 = words_occurancy_df[words_occurancy_df['class'] == 1]"
   ]
  },
  {
   "cell_type": "code",
   "execution_count": 57,
   "metadata": {
    "collapsed": true
   },
   "outputs": [],
   "source": [
    "def p_word_c(wd):\n",
    "    p_word_c0 = sum(c0[wd])/len(c0)\n",
    "    p_word_c1 = sum(c1[wd])/len(c1)\n",
    "    return p_word_c0,p_word_c1"
   ]
  },
  {
   "cell_type": "code",
   "execution_count": 58,
   "metadata": {
    "collapsed": true
   },
   "outputs": [],
   "source": [
    "def bnb(sentence):\n",
    "    p_c0 = len(c0)/len(words_occurancy_df)\n",
    "    p_c1 = len(c1)/len(words_occurancy_df)\n",
    "    p_c0_word = np.prod([p_word_c(x)[0] for x in sentence])*p_c0\n",
    "    p_c1_word = np.prod([p_word_c(x)[1] for x in sentence])*p_c1\n",
    "    if p_c0_word > p_c1_word:\n",
    "        return 'class0'\n",
    "    else:\n",
    "        return 'class1'  "
   ]
  },
  {
   "cell_type": "code",
   "execution_count": 59,
   "metadata": {},
   "outputs": [
    {
     "data": {
      "text/plain": [
       "'class1'"
      ]
     },
     "execution_count": 59,
     "metadata": {},
     "output_type": "execute_result"
    }
   ],
   "source": [
    "s = ['stupid','garbage']\n",
    "bnb(s)"
   ]
  },
  {
   "cell_type": "code",
   "execution_count": 64,
   "metadata": {},
   "outputs": [
    {
     "data": {
      "text/plain": [
       "array([[9.51489635e-01, 4.85103646e-02, 4.06602879e-21]])"
      ]
     },
     "execution_count": 64,
     "metadata": {},
     "output_type": "execute_result"
    }
   ],
   "source": [
    "clf.predict_proba([61732,8.325167,0.028479])"
   ]
  },
  {
   "cell_type": "code",
   "execution_count": 79,
   "metadata": {},
   "outputs": [
    {
     "data": {
      "text/plain": [
       "array(['didntLike', 'largeDoses', 'smallDoses'], dtype='<U10')"
      ]
     },
     "execution_count": 79,
     "metadata": {},
     "output_type": "execute_result"
    }
   ],
   "source": [
    "clf.classes_"
   ]
  },
  {
   "cell_type": "code",
   "execution_count": null,
   "metadata": {
    "collapsed": true
   },
   "outputs": [],
   "source": []
  }
 ],
 "metadata": {
  "kernelspec": {
   "display_name": "Python 3",
   "language": "python",
   "name": "python3"
  },
  "language_info": {
   "codemirror_mode": {
    "name": "ipython",
    "version": 3
   },
   "file_extension": ".py",
   "mimetype": "text/x-python",
   "name": "python",
   "nbconvert_exporter": "python",
   "pygments_lexer": "ipython3",
   "version": "3.6.3"
  }
 },
 "nbformat": 4,
 "nbformat_minor": 2
}
