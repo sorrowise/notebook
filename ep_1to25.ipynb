{
 "cells": [
  {
   "cell_type": "code",
   "execution_count": null,
   "metadata": {
    "collapsed": true
   },
   "outputs": [],
   "source": [
    "# Author: metaquant\n",
    "# Created: 2017-7-28\n",
    "# Site: https://blog.metaquant.org\n",
    "# E-mail: lrpku@foxmail.com"
   ]
  },
  {
   "cell_type": "code",
   "execution_count": null,
   "metadata": {
    "collapsed": false,
    "nbpresent": {
     "id": "8c3e5001-5eb0-4635-9f04-c9e770f9e281"
    }
   },
   "outputs": [],
   "source": [
    "# 1.Multiples of 3 and 5"
   ]
  },
  {
   "cell_type": "code",
   "execution_count": null,
   "metadata": {
    "collapsed": false
   },
   "outputs": [],
   "source": [
    "arr = [x for x in range(1,1000) if x%3==0 or x%5==0]\n",
    "print sum(arr)"
   ]
  },
  {
   "cell_type": "code",
   "execution_count": null,
   "metadata": {
    "collapsed": true
   },
   "outputs": [],
   "source": [
    "# 2.Even Fibonacci numbers"
   ]
  },
  {
   "cell_type": "code",
   "execution_count": null,
   "metadata": {
    "collapsed": false
   },
   "outputs": [],
   "source": [
    "def fibs_below(n,a=1,b=2):\n",
    "    fib = [a,b]\n",
    "    while True:\n",
    "        a,b = b,a+b\n",
    "        if b <= n:\n",
    "            fib.append(b)\n",
    "        else:\n",
    "            return fib\n",
    "\n",
    "print sum([x for x in fibs_below(4e6) if x%2==0])"
   ]
  },
  {
   "cell_type": "code",
   "execution_count": null,
   "metadata": {
    "collapsed": true
   },
   "outputs": [],
   "source": [
    "# 3.Largest prime factor"
   ]
  },
  {
   "cell_type": "code",
   "execution_count": 1,
   "metadata": {
    "collapsed": false
   },
   "outputs": [],
   "source": [
    "from math import sqrt\n",
    "from sympy import sieve\n",
    "\n",
    "def is_prime(n):\n",
    "    primes = list(sieve.primerange(1,int(sqrt(n))+1))\n",
    "    return not [i for i in primes if n%i == 0]\n",
    "\n",
    "def max_prime_factor(n):\n",
    "    primes = list(sieve.primerange(1,int(sqrt(n))+1))\n",
    "    left_pfs = [x for x in primes if n%x==0]\n",
    "    right_pfs = [n/x for x in left_pfs if is_prime(n/x)]\n",
    "    pfs = left_pfs + right_pfs\n",
    "    return max(pfs)"
   ]
  },
  {
   "cell_type": "code",
   "execution_count": null,
   "metadata": {
    "collapsed": true
   },
   "outputs": [],
   "source": [
    "# 4.Largest palindrome product"
   ]
  },
  {
   "cell_type": "code",
   "execution_count": null,
   "metadata": {
    "collapsed": false
   },
   "outputs": [],
   "source": [
    "is_palindrome = lambda x : str(x) == str(x)[::-1]\n",
    "r = range(999,99,-1)\n",
    "print max([i*j for i in r for j in r if is_palindrome(i*j)])"
   ]
  },
  {
   "cell_type": "code",
   "execution_count": null,
   "metadata": {
    "collapsed": true
   },
   "outputs": [],
   "source": [
    "# 5.Smallest multiple"
   ]
  },
  {
   "cell_type": "code",
   "execution_count": null,
   "metadata": {
    "collapsed": false
   },
   "outputs": [],
   "source": [
    "from fractions import gcd\n",
    "\n",
    "def lcm(numbers):\n",
    "    def lcm(a, b):\n",
    "        return (a * b) // gcd(a, b)\n",
    "    return reduce(lcm, numbers)\n",
    "\n",
    "print lcm(range(1,21))"
   ]
  },
  {
   "cell_type": "code",
   "execution_count": null,
   "metadata": {
    "collapsed": true
   },
   "outputs": [],
   "source": [
    "# 6.Sum square difference"
   ]
  },
  {
   "cell_type": "code",
   "execution_count": null,
   "metadata": {
    "collapsed": false
   },
   "outputs": [],
   "source": [
    "arr = [x**2 for x in range(1,101)]\n",
    "res = (sum(range(1,101)))**2 - sum(arr)\n",
    "print res"
   ]
  },
  {
   "cell_type": "code",
   "execution_count": null,
   "metadata": {
    "collapsed": true
   },
   "outputs": [],
   "source": [
    "# 7.10001st prime"
   ]
  },
  {
   "cell_type": "code",
   "execution_count": null,
   "metadata": {
    "collapsed": false
   },
   "outputs": [],
   "source": [
    "import math\n",
    "\n",
    "def isPrime(n):\n",
    "    return not [i for i in range(2, int(math.sqrt(n)) + 1) if n%i == 0]\n",
    "\n",
    "def nthPrime(n):\n",
    "    i = 2\n",
    "    j = 3\n",
    "    while i < n:\n",
    "        j = j + 2\n",
    "        if isPrime(j):\n",
    "            i = i + 1\n",
    "    return j\n",
    "\n",
    "print nthPrime(10001)"
   ]
  },
  {
   "cell_type": "code",
   "execution_count": null,
   "metadata": {
    "collapsed": true
   },
   "outputs": [],
   "source": [
    "# 8.Largest product in a series"
   ]
  },
  {
   "cell_type": "code",
   "execution_count": null,
   "metadata": {
    "collapsed": false
   },
   "outputs": [],
   "source": [
    "data = ''\n",
    "f = open(\"euler/ep08.txt\")\n",
    "for line in f.readlines():\n",
    "    data = data + line.strip()\n",
    "\n",
    "res = []\n",
    "for i in range(988):\n",
    "    sub = [int(x) for x in data[i:i+13]]\n",
    "    prod = reduce(lambda x,y:x*y, sub)\n",
    "    res.append(prod)\n",
    "print max(res)"
   ]
  },
  {
   "cell_type": "code",
   "execution_count": null,
   "metadata": {
    "collapsed": true
   },
   "outputs": [],
   "source": [
    "# 9.Special Pythagorean triplet"
   ]
  },
  {
   "cell_type": "code",
   "execution_count": null,
   "metadata": {
    "collapsed": false
   },
   "outputs": [],
   "source": [
    "from math import sqrt\n",
    "\n",
    "def findPytha():\n",
    "    upBoundary = int(sqrt(500)) + 1\n",
    "    for i in range(upBoundary,1,-1):\n",
    "        if 500%i == 0:\n",
    "            n = 500/i - i\n",
    "            if i > n:\n",
    "                return i,n\n",
    "i,n = findPytha()\n",
    "a = i**2 + n**2\n",
    "b = 2*i*n\n",
    "c = i**2 - n**2\n",
    "print a*b*c"
   ]
  },
  {
   "cell_type": "code",
   "execution_count": null,
   "metadata": {
    "collapsed": true
   },
   "outputs": [],
   "source": [
    "# 10.Summation of primes"
   ]
  },
  {
   "cell_type": "code",
   "execution_count": null,
   "metadata": {
    "collapsed": false
   },
   "outputs": [],
   "source": [
    "import numpy\n",
    "\n",
    "def primes(n):\n",
    "    \"\"\" Returns a array of primes, 3 <= p < n \"\"\"\n",
    "    sieve = numpy.ones(n/2, dtype=numpy.bool)\n",
    "    for i in xrange(3,int(n**0.5)+1,2):\n",
    "        if sieve[i/2]:\n",
    "            sieve[i*i/2::i] = False\n",
    "    res = 2*numpy.nonzero(sieve)[0][1::]+1\n",
    "    return numpy.hstack((2,res))\n",
    "\n",
    "print sum(primes(2000000))"
   ]
  },
  {
   "cell_type": "code",
   "execution_count": null,
   "metadata": {
    "collapsed": true
   },
   "outputs": [],
   "source": [
    "# 11.Largest product in a grid"
   ]
  },
  {
   "cell_type": "code",
   "execution_count": null,
   "metadata": {
    "collapsed": true
   },
   "outputs": [],
   "source": [
    "with open('euler/ep11.txt','r') as f:\n",
    "    data = [map(int, s.split()) for s in f.readlines()]\n",
    "\n",
    "def grid_largest_prod(data):\n",
    "    import numpy as np\n",
    "    length = len(data)\n",
    "    res = np.zeros((length,length))\n",
    "    right = down = down_right = left_down = 0\n",
    "    for i in range(length):\n",
    "        for j in range(length):\n",
    "            right_exist = all([x<length for x in [i,i+1,i+2,i+3]])\n",
    "            down_exist = all([x<length for x in [j,j+1,j+2,j+3]])\n",
    "            left_exist = all([x>=0 for x in [i,i-1,i-2,i-3]])\n",
    "            if right_exist:\n",
    "                right = data[i][j]*data[i+1][j]*data[i+2][j]*data[i+3][j]\n",
    "            if down_exist:\n",
    "                down = data[i][j]*data[i][j+1]*data[i][j+2]*data[i][j+3]\n",
    "            if right_exist and down_exist:\n",
    "                down_right = data[i][j]*data[i+1][j+2]*data[i+2][j+2]*data[i+3][j+3]\n",
    "            if left_exist and down_exist:\n",
    "                left_down = data[i][j]*data[i-1][j+1]*data[i-2][j+2]*data[i-3][j+3]\n",
    "            res[i][j] = max(right,down,down_right,left_down)\n",
    "    max_res = np.max(res)\n",
    "    return max_res,np.where(res==max_res)"
   ]
  },
  {
   "cell_type": "code",
   "execution_count": null,
   "metadata": {
    "collapsed": true
   },
   "outputs": [],
   "source": [
    "# 12.Highly divisible triangular number"
   ]
  },
  {
   "cell_type": "code",
   "execution_count": null,
   "metadata": {
    "collapsed": false
   },
   "outputs": [],
   "source": [
    "from math import sqrt\n",
    "\n",
    "def num_of_divisor(n):\n",
    "    if n == 1:\n",
    "        return 1\n",
    "    else:\n",
    "        up_bound = int(sqrt(n)) + 1\n",
    "        num = 0\n",
    "        for i in range(1,up_bound):\n",
    "            if n%i == 0:\n",
    "                num = num + 1\n",
    "        return (2*num)\n",
    "\n",
    "def numd_of_triangle():\n",
    "    n = 7\n",
    "    while True:\n",
    "        triangle = sum(range(1,n+1))\n",
    "        num_d = num_of_divisor(triangle)\n",
    "        if num_d <= 500:\n",
    "            n = n + 1\n",
    "        else:\n",
    "            return triangle\n",
    "\n",
    "print numd_of_triangle()"
   ]
  },
  {
   "cell_type": "code",
   "execution_count": null,
   "metadata": {
    "collapsed": false
   },
   "outputs": [],
   "source": [
    "# 13.Large sum"
   ]
  },
  {
   "cell_type": "code",
   "execution_count": null,
   "metadata": {
    "collapsed": false
   },
   "outputs": [],
   "source": [
    "large_sum = 0\n",
    "f = open(\"euler/ep13.txt\")\n",
    "for line in f.readlines():\n",
    "    large_sum += int(line)\n",
    "print str(large_sum)[:10]"
   ]
  },
  {
   "cell_type": "code",
   "execution_count": null,
   "metadata": {
    "collapsed": true
   },
   "outputs": [],
   "source": [
    "# 14.Longest Collatz sequence"
   ]
  },
  {
   "cell_type": "code",
   "execution_count": null,
   "metadata": {
    "collapsed": false
   },
   "outputs": [],
   "source": [
    "def num_of_terms(n):\n",
    "    terms = 1\n",
    "    while n !=1:\n",
    "        if n%2==0:\n",
    "            n = n/2\n",
    "            terms += 1\n",
    "        else:\n",
    "            n = 3*n + 1\n",
    "            terms += 1\n",
    "    return terms\n",
    "\n",
    "def max_start(n):\n",
    "    terms_arr = [num_of_terms(n) for n in range(1,n+1)]\n",
    "    index = terms_arr.index(max(terms_arr)) + 1\n",
    "    return index\n",
    "\n",
    "print max_start(1000000)"
   ]
  },
  {
   "cell_type": "code",
   "execution_count": null,
   "metadata": {
    "collapsed": false
   },
   "outputs": [],
   "source": [
    "# 15.Lattice paths"
   ]
  },
  {
   "cell_type": "code",
   "execution_count": null,
   "metadata": {
    "collapsed": false
   },
   "outputs": [],
   "source": [
    "def comb_num(n,k):\n",
    "    fac = lambda n:reduce(lambda x,y:x*y,range(1,n+1))\n",
    "    num = fac(n)/(fac(n-k)*fac(k))\n",
    "    return num\n",
    "\n",
    "def lattice_paths(n,k):\n",
    "    return comb_num(n+k,k)\n",
    "\n",
    "print lattice_paths(20,20)"
   ]
  },
  {
   "cell_type": "code",
   "execution_count": null,
   "metadata": {
    "collapsed": false
   },
   "outputs": [],
   "source": [
    "# 16.Power digit sum"
   ]
  },
  {
   "cell_type": "code",
   "execution_count": null,
   "metadata": {
    "collapsed": false
   },
   "outputs": [],
   "source": [
    "print sum([int(x) for x in str(2**1000)])"
   ]
  },
  {
   "cell_type": "code",
   "execution_count": null,
   "metadata": {
    "collapsed": true
   },
   "outputs": [],
   "source": [
    "# 17.Number letter counts"
   ]
  },
  {
   "cell_type": "code",
   "execution_count": null,
   "metadata": {
    "collapsed": false
   },
   "outputs": [],
   "source": [
    "import pandas as pd\n",
    "df = pd.read_csv('euler/ep17.csv',header=None)\n",
    "words_dict = df.set_index(0).to_dict()[1]\n",
    "\n",
    "def num_to_words(n):\n",
    "    if n in words_dict.keys():\n",
    "        return words_dict[n]\n",
    "    else:\n",
    "        if 21<=n<=100:\n",
    "            ten_digit = n/10*10\n",
    "            digit = n%10\n",
    "            return words_dict[ten_digit] + words_dict[digit]\n",
    "        elif 101<=n<=1000:\n",
    "            hundred_dict = n/100\n",
    "            remainder = n%100\n",
    "            if remainder == 0:\n",
    "                return words_dict[hundred_dict] + 'hundred'\n",
    "            else:\n",
    "                return words_dict[hundred_dict] + 'hundredand' + num_to_words(remainder)\n",
    "\n",
    "print sum([len(num_to_words(x)) for x in range(1,1001)])"
   ]
  },
  {
   "cell_type": "code",
   "execution_count": null,
   "metadata": {
    "collapsed": true
   },
   "outputs": [],
   "source": [
    "# 18.Maximum path sum I"
   ]
  },
  {
   "cell_type": "code",
   "execution_count": null,
   "metadata": {
    "collapsed": false
   },
   "outputs": [],
   "source": [
    "with open('euler/ep18.txt') as f:\n",
    "    table = [map(int,s.split()) for s in f.readlines()]\n",
    "\n",
    "for row in range(len(table)-1, 0, -1):\n",
    "    for col in range(0, row):\n",
    "        table[row-1][col] += max(table[row][col], table[row][col+1])\n",
    "\n",
    "print table[0][0]"
   ]
  },
  {
   "cell_type": "code",
   "execution_count": null,
   "metadata": {
    "collapsed": true
   },
   "outputs": [],
   "source": [
    "# 19.Counting Sundays"
   ]
  },
  {
   "cell_type": "code",
   "execution_count": null,
   "metadata": {
    "collapsed": false
   },
   "outputs": [],
   "source": [
    "def count_sundays():\n",
    "    import datetime as dt\n",
    "    delta = dt.timedelta(days=1)\n",
    "    start_date = s = dt.datetime(1901, 1, 1)\n",
    "    end_date = dt.datetime(2000, 12, 31)\n",
    "    count = 0\n",
    "    while start_date <= end_date:\n",
    "        if start_date.day==1 and start_date.isoweekday()==7: count+=1\n",
    "        start_date += delta\n",
    "    return count\n",
    "\n",
    "print count_sundays()"
   ]
  },
  {
   "cell_type": "code",
   "execution_count": null,
   "metadata": {
    "collapsed": true
   },
   "outputs": [],
   "source": [
    "# 20.Factorial digit sum"
   ]
  },
  {
   "cell_type": "code",
   "execution_count": null,
   "metadata": {
    "collapsed": false
   },
   "outputs": [],
   "source": [
    "fac = lambda n:reduce(lambda x,y:x*y,range(1,n+1))\n",
    "print sum([int(x) for x in str(fac(100))])"
   ]
  },
  {
   "cell_type": "code",
   "execution_count": null,
   "metadata": {
    "collapsed": true
   },
   "outputs": [],
   "source": [
    "# 21.Amicable numbers"
   ]
  },
  {
   "cell_type": "code",
   "execution_count": null,
   "metadata": {
    "collapsed": false
   },
   "outputs": [],
   "source": [
    "from math import sqrt\n",
    "\n",
    "def divisors(n):\n",
    "    divs = []\n",
    "    for i in range(1,int(sqrt(n))+1):\n",
    "        if n%i == 0:\n",
    "            divs.append(i)\n",
    "            divs.append(n/i)\n",
    "    return list(set(divs))\n",
    "\n",
    "sum_of_divs = lambda n : sum(divisors(n))-n\n",
    "\n",
    "def amicable_num(n):\n",
    "    arr = []\n",
    "    for i in range(1,n+1):\n",
    "        if sum_of_divs(sum_of_divs(i)) == i and sum_of_divs(i) !=i:\n",
    "            arr.append(i)\n",
    "    return arr   \n",
    "\n",
    "print sum(amicable_num(10000))"
   ]
  },
  {
   "cell_type": "code",
   "execution_count": null,
   "metadata": {
    "collapsed": true
   },
   "outputs": [],
   "source": [
    "# 22.Names scores"
   ]
  },
  {
   "cell_type": "code",
   "execution_count": null,
   "metadata": {
    "collapsed": false
   },
   "outputs": [],
   "source": [
    "with open('euler/ep22.txt','r') as f:\n",
    "    data = f.read().replace('\"',\"\").split(',')\n",
    "\n",
    "def alphabet(word):\n",
    "    alpha = lambda s : ord(s) - ord('A') + 1\n",
    "    res = sum([alpha(x) for x in word])\n",
    "    return res\n",
    "\n",
    "def sum_name_score(data):\n",
    "    name_score = lambda word : alphabet(word) * (sorted(data).index(word)+1)\n",
    "    res = sum([name_score(word) for word in data])\n",
    "    return res"
   ]
  },
  {
   "cell_type": "code",
   "execution_count": null,
   "metadata": {
    "collapsed": true
   },
   "outputs": [],
   "source": [
    "# 23.Non-abundant sums"
   ]
  },
  {
   "cell_type": "code",
   "execution_count": null,
   "metadata": {
    "collapsed": true
   },
   "outputs": [],
   "source": [
    "def abundants(n):\n",
    "    res = []\n",
    "    for i in range(1,n+1):\n",
    "        if sum_of_divs(i) > i:\n",
    "            res.append(i)\n",
    "    return res\n",
    "\n",
    "up_bound = 28123\n",
    "arr = brr = abundants(up_bound)\n",
    "all_divs = list(set([x+y for x in arr for y in brr if (x+y)<up_bound]))\n",
    "res = sum(range(1,up_bound))-sum(all_divs)"
   ]
  },
  {
   "cell_type": "code",
   "execution_count": null,
   "metadata": {
    "collapsed": true
   },
   "outputs": [],
   "source": [
    "# 24.Lexicographic permutations"
   ]
  },
  {
   "cell_type": "code",
   "execution_count": null,
   "metadata": {
    "collapsed": false
   },
   "outputs": [],
   "source": [
    "from math import factorial, floor\n",
    "\n",
    "def kthperm(S, kth):\n",
    "    P = []\n",
    "    k = kth - 1\n",
    "    S = list(S)\n",
    "    while S != []:\n",
    "        f = factorial(len(S)-1)\n",
    "        i = int(floor(k/f))\n",
    "        x = S[i]\n",
    "        k = k%f\n",
    "        P.append(x)\n",
    "        S.remove(x)\n",
    "    return int(reduce(lambda x,y:x+y,P,''))\n",
    "\n",
    "S = '0123456789'\n",
    "print kthperm(S,1000000)"
   ]
  },
  {
   "cell_type": "code",
   "execution_count": null,
   "metadata": {
    "collapsed": true
   },
   "outputs": [],
   "source": [
    "# 25.1000-digit Fibonacci number"
   ]
  },
  {
   "cell_type": "code",
   "execution_count": null,
   "metadata": {
    "collapsed": false
   },
   "outputs": [],
   "source": [
    "def fib_digit(bound):\n",
    "    x = 1\n",
    "    y = 1\n",
    "    n = 2\n",
    "    fib = [1,1]\n",
    "    while len(str(fib[-1])) < bound:\n",
    "        x,y = y,x+y\n",
    "        fib.append(y)\n",
    "        n = n+1\n",
    "    return n\n",
    "\n",
    "print fib_digit(1000)"
   ]
  },
  {
   "cell_type": "code",
   "execution_count": null,
   "metadata": {
    "collapsed": true
   },
   "outputs": [],
   "source": []
  }
 ],
 "metadata": {
  "anaconda-cloud": {},
  "kernelspec": {
   "display_name": "Python [default]",
   "language": "python",
   "name": "python2"
  },
  "language_info": {
   "codemirror_mode": {
    "name": "ipython",
    "version": 2
   },
   "file_extension": ".py",
   "mimetype": "text/x-python",
   "name": "python",
   "nbconvert_exporter": "python",
   "pygments_lexer": "ipython2",
   "version": "2.7.12"
  },
  "nbpresent": {
   "slides": {},
   "themes": {
    "default": "d762aec4-923a-46ef-accf-b6852ff387ed",
    "theme": {
     "d762aec4-923a-46ef-accf-b6852ff387ed": {
      "id": "d762aec4-923a-46ef-accf-b6852ff387ed",
      "palette": {
       "19cc588f-0593-49c9-9f4b-e4d7cc113b1c": {
        "id": "19cc588f-0593-49c9-9f4b-e4d7cc113b1c",
        "rgb": [
         252,
         252,
         252
        ]
       },
       "31af15d2-7e15-44c5-ab5e-e04b16a89eff": {
        "id": "31af15d2-7e15-44c5-ab5e-e04b16a89eff",
        "rgb": [
         68,
         68,
         68
        ]
       },
       "50f92c45-a630-455b-aec3-788680ec7410": {
        "id": "50f92c45-a630-455b-aec3-788680ec7410",
        "rgb": [
         155,
         177,
         192
        ]
       },
       "c5cc3653-2ee1-402a-aba2-7caae1da4f6c": {
        "id": "c5cc3653-2ee1-402a-aba2-7caae1da4f6c",
        "rgb": [
         43,
         126,
         184
        ]
       },
       "efa7f048-9acb-414c-8b04-a26811511a21": {
        "id": "efa7f048-9acb-414c-8b04-a26811511a21",
        "rgb": [
         25.118061674008803,
         73.60176211453744,
         107.4819383259912
        ]
       }
      },
      "rules": {
       "blockquote": {
        "color": "50f92c45-a630-455b-aec3-788680ec7410"
       },
       "code": {
        "font-family": "Anonymous Pro"
       },
       "h1": {
        "color": "c5cc3653-2ee1-402a-aba2-7caae1da4f6c",
        "font-family": "Lato",
        "font-size": 8
       },
       "h2": {
        "color": "c5cc3653-2ee1-402a-aba2-7caae1da4f6c",
        "font-family": "Lato",
        "font-size": 6
       },
       "h3": {
        "color": "50f92c45-a630-455b-aec3-788680ec7410",
        "font-family": "Lato",
        "font-size": 5.5
       },
       "h4": {
        "color": "c5cc3653-2ee1-402a-aba2-7caae1da4f6c",
        "font-family": "Lato",
        "font-size": 5
       },
       "h5": {
        "font-family": "Lato"
       },
       "h6": {
        "font-family": "Lato"
       },
       "h7": {
        "font-family": "Lato"
       },
       "pre": {
        "font-family": "Anonymous Pro",
        "font-size": 4
       }
      },
      "text-base": {
       "font-family": "Merriweather",
       "font-size": 4
      }
     }
    }
   }
  }
 },
 "nbformat": 4,
 "nbformat_minor": 1
}
